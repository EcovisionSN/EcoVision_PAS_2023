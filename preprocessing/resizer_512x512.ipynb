{
 "cells": [
  {
   "cell_type": "markdown",
   "id": "a36e67da",
   "metadata": {},
   "source": [
    "# Redimensionneur d'images"
   ]
  },
  {
   "cell_type": "markdown",
   "id": "9d753c30",
   "metadata": {},
   "source": [
    "<p style=\"font-size:15px;\">Le code ci-dessous permet de redimensionner des images <b>png</b> de dimension quelconque en des images de dimensions <i>512x512</i> pixels</p>"
   ]
  },
  {
   "cell_type": "code",
   "execution_count": 1,
   "id": "eedd4d50",
   "metadata": {},
   "outputs": [
    {
     "name": "stdout",
     "output_type": "stream",
     "text": [
      "Redimensionnement terminé.\n"
     ]
    }
   ],
   "source": [
    "import cv2\n",
    "import os\n",
    "\n",
    "# Chemin d'accès du répertoire contenant les images d'origine\n",
    "repertoire_origine = 'C:/Users/kalzm/Documents/dataset/resize_test/masks/'\n",
    "\n",
    "# Chemin d'accès du répertoire de destination pour les images redimensionnées\n",
    "repertoire_destination = 'C:/Users/kalzm/Documents/dataset/resize_test/resized_masks/'\n",
    "\n",
    "# Vérifier si le répertoire de destination existe, sinon le créer\n",
    "if not os.path.exists(repertoire_destination):\n",
    "    os.makedirs(repertoire_destination)\n",
    "\n",
    "# Boucle sur les numéros de fichiers de 1 à 1500\n",
    "for i in range(1, 1501):\n",
    "    # Formater le numéro de fichier avec des zéros à gauche\n",
    "    numero_fichier = str(i).zfill(4)\n",
    "\n",
    "    # Chemins d'accès des fichiers d'entrée et de sortie\n",
    "    input_path = os.path.join(repertoire_origine, f'{numero_fichier}.png')\n",
    "    output_path = os.path.join(repertoire_destination, f'{numero_fichier}.png')\n",
    "\n",
    "    # Charger l'image\n",
    "    image = cv2.imread(input_path)\n",
    "\n",
    "    # Redimensionner l'image en conservant l'aspect ratio\n",
    "    resized_image = cv2.resize(image, (512, 512), interpolation=cv2.INTER_AREA)\n",
    "\n",
    "    # Enregistrer l'image redimensionnée\n",
    "    cv2.imwrite(output_path, resized_image)\n",
    "\n",
    "print(\"Redimensionnement terminé.\")"
   ]
  },
  {
   "cell_type": "code",
   "execution_count": null,
   "id": "f1df8197",
   "metadata": {},
   "outputs": [],
   "source": []
  }
 ],
 "metadata": {
  "kernelspec": {
   "display_name": "Python 3 (ipykernel)",
   "language": "python",
   "name": "python3"
  },
  "language_info": {
   "codemirror_mode": {
    "name": "ipython",
    "version": 3
   },
   "file_extension": ".py",
   "mimetype": "text/x-python",
   "name": "python",
   "nbconvert_exporter": "python",
   "pygments_lexer": "ipython3",
   "version": "3.11.5"
  }
 },
 "nbformat": 4,
 "nbformat_minor": 5
}
