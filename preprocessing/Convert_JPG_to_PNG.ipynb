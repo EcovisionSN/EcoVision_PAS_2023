{
  "nbformat": 4,
  "nbformat_minor": 0,
  "metadata": {
    "colab": {
      "provenance": [],
      "authorship_tag": "ABX9TyPJ23cQ70BSC4V9Ax+LPgOH",
      "include_colab_link": true
    },
    "kernelspec": {
      "name": "python3",
      "display_name": "Python 3"
    },
    "language_info": {
      "name": "python"
    }
  },
  "cells": [
    {
      "cell_type": "markdown",
      "metadata": {
        "id": "view-in-github",
        "colab_type": "text"
      },
      "source": [
        "<a href=\"https://colab.research.google.com/github/EcovisionSN/EcoVision_PAS_2023/blob/dev/preprocessing/Convert_JPG_to_PNG.ipynb\" target=\"_parent\"><img src=\"https://colab.research.google.com/assets/colab-badge.svg\" alt=\"Open In Colab\"/></a>"
      ]
    },
    {
      "cell_type": "code",
      "execution_count": 1,
      "metadata": {
        "colab": {
          "base_uri": "https://localhost:8080/"
        },
        "id": "8uOwDIti6GnB",
        "outputId": "943779fa-aadb-4497-c009-8e8bfc6ea59a"
      },
      "outputs": [
        {
          "output_type": "stream",
          "name": "stdout",
          "text": [
            "Mounted at /content/drive\n"
          ]
        }
      ],
      "source": [
        "from google.colab import drive\n",
        "drive.mount('/content/drive')"
      ]
    },
    {
      "cell_type": "code",
      "source": [
        "from PIL import Image\n",
        "import os\n",
        "\n",
        "source_folder = '/content/drive/MyDrive/Notebooks/Dataset/dataset_16_10_2023/data/masks'\n",
        "dest_folder = '/content/drive/MyDrive/Notebooks/Dataset/dataset_16_10_2023/data/n_masks'\n",
        "\n",
        "for filename in os.listdir(source_folder):\n",
        "    if filename.endswith('.jpg'):\n",
        "        img = Image.open(os.path.join(source_folder, filename))\n",
        "        img.save(os.path.join(dest_folder, os.path.splitext(filename)[0] + '.png'))"
      ],
      "metadata": {
        "id": "4K38MIRS6MzV"
      },
      "execution_count": null,
      "outputs": []
    }
  ]
}