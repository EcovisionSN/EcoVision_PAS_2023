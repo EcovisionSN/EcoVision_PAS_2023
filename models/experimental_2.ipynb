{
  "nbformat": 4,
  "nbformat_minor": 0,
  "metadata": {
    "colab": {
      "provenance": [],
      "authorship_tag": "ABX9TyNKWKGIgqbgrYD7ZW84qRW/",
      "include_colab_link": true
    },
    "kernelspec": {
      "name": "python3",
      "display_name": "Python 3"
    },
    "language_info": {
      "name": "python"
    }
  },
  "cells": [
    {
      "cell_type": "markdown",
      "metadata": {
        "id": "view-in-github",
        "colab_type": "text"
      },
      "source": [
        "<a href=\"https://colab.research.google.com/github/EcovisionSN/EcoVision_PAS_2023/blob/dev/models/prototype.ipynb\" target=\"_parent\"><img src=\"https://colab.research.google.com/assets/colab-badge.svg\" alt=\"Open In Colab\"/></a>"
      ]
    },
    {
      "cell_type": "code",
      "execution_count": 1,
      "metadata": {
        "colab": {
          "base_uri": "https://localhost:8080/"
        },
        "id": "ml9qVXoJ0fRc",
        "outputId": "da278da6-98b1-46b1-9261-5a654a547175"
      },
      "outputs": [
        {
          "output_type": "stream",
          "name": "stdout",
          "text": [
            "Drive already mounted at /content/drive; to attempt to forcibly remount, call drive.mount(\"/content/drive\", force_remount=True).\n"
          ]
        }
      ],
      "source": [
        "from google.colab import drive\n",
        "drive.mount('/content/drive')"
      ]
    },
    {
      "cell_type": "markdown",
      "source": [
        "#### Téléchargement des bibliothèques"
      ],
      "metadata": {
        "id": "D7Iqjq8-ptt0"
      }
    },
    {
      "cell_type": "code",
      "source": [
        "!pip install selenium"
      ],
      "metadata": {
        "colab": {
          "base_uri": "https://localhost:8080/"
        },
        "id": "5X4qCWIh1EHd",
        "outputId": "42a84e6e-c392-42f8-8b0d-2df1d23dab45"
      },
      "execution_count": 2,
      "outputs": [
        {
          "output_type": "stream",
          "name": "stdout",
          "text": [
            "Requirement already satisfied: selenium in /usr/local/lib/python3.10/dist-packages (4.14.0)\n",
            "Requirement already satisfied: urllib3[socks]<3,>=1.26 in /usr/local/lib/python3.10/dist-packages (from selenium) (2.0.6)\n",
            "Requirement already satisfied: trio~=0.17 in /usr/local/lib/python3.10/dist-packages (from selenium) (0.22.2)\n",
            "Requirement already satisfied: trio-websocket~=0.9 in /usr/local/lib/python3.10/dist-packages (from selenium) (0.11.1)\n",
            "Requirement already satisfied: certifi>=2021.10.8 in /usr/local/lib/python3.10/dist-packages (from selenium) (2023.7.22)\n",
            "Requirement already satisfied: attrs>=20.1.0 in /usr/local/lib/python3.10/dist-packages (from trio~=0.17->selenium) (23.1.0)\n",
            "Requirement already satisfied: sortedcontainers in /usr/local/lib/python3.10/dist-packages (from trio~=0.17->selenium) (2.4.0)\n",
            "Requirement already satisfied: idna in /usr/local/lib/python3.10/dist-packages (from trio~=0.17->selenium) (3.4)\n",
            "Requirement already satisfied: outcome in /usr/local/lib/python3.10/dist-packages (from trio~=0.17->selenium) (1.2.0)\n",
            "Requirement already satisfied: sniffio in /usr/local/lib/python3.10/dist-packages (from trio~=0.17->selenium) (1.3.0)\n",
            "Requirement already satisfied: exceptiongroup>=1.0.0rc9 in /usr/local/lib/python3.10/dist-packages (from trio~=0.17->selenium) (1.1.3)\n",
            "Requirement already satisfied: wsproto>=0.14 in /usr/local/lib/python3.10/dist-packages (from trio-websocket~=0.9->selenium) (1.2.0)\n",
            "Requirement already satisfied: pysocks!=1.5.7,<2.0,>=1.5.6 in /usr/local/lib/python3.10/dist-packages (from urllib3[socks]<3,>=1.26->selenium) (1.7.1)\n",
            "Requirement already satisfied: h11<1,>=0.9.0 in /usr/local/lib/python3.10/dist-packages (from wsproto>=0.14->trio-websocket~=0.9->selenium) (0.14.0)\n"
          ]
        }
      ]
    },
    {
      "cell_type": "code",
      "source": [
        "!pip install folium"
      ],
      "metadata": {
        "colab": {
          "base_uri": "https://localhost:8080/"
        },
        "id": "M6TPTqlb1HaL",
        "outputId": "ac1c5208-1e21-42ef-b7c6-77d7f331fef3"
      },
      "execution_count": 3,
      "outputs": [
        {
          "output_type": "stream",
          "name": "stdout",
          "text": [
            "Requirement already satisfied: folium in /usr/local/lib/python3.10/dist-packages (0.14.0)\n",
            "Requirement already satisfied: branca>=0.6.0 in /usr/local/lib/python3.10/dist-packages (from folium) (0.6.0)\n",
            "Requirement already satisfied: jinja2>=2.9 in /usr/local/lib/python3.10/dist-packages (from folium) (3.1.2)\n",
            "Requirement already satisfied: numpy in /usr/local/lib/python3.10/dist-packages (from folium) (1.23.5)\n",
            "Requirement already satisfied: requests in /usr/local/lib/python3.10/dist-packages (from folium) (2.31.0)\n",
            "Requirement already satisfied: MarkupSafe>=2.0 in /usr/local/lib/python3.10/dist-packages (from jinja2>=2.9->folium) (2.1.3)\n",
            "Requirement already satisfied: charset-normalizer<4,>=2 in /usr/local/lib/python3.10/dist-packages (from requests->folium) (3.3.0)\n",
            "Requirement already satisfied: idna<4,>=2.5 in /usr/local/lib/python3.10/dist-packages (from requests->folium) (3.4)\n",
            "Requirement already satisfied: urllib3<3,>=1.21.1 in /usr/local/lib/python3.10/dist-packages (from requests->folium) (2.0.6)\n",
            "Requirement already satisfied: certifi>=2017.4.17 in /usr/local/lib/python3.10/dist-packages (from requests->folium) (2023.7.22)\n"
          ]
        }
      ]
    },
    {
      "cell_type": "code",
      "source": [
        "!pip install geopandas"
      ],
      "metadata": {
        "colab": {
          "base_uri": "https://localhost:8080/"
        },
        "id": "8DfGLmlM1Je6",
        "outputId": "2fcb995f-fffa-4a55-cb04-f5a72039e3b0"
      },
      "execution_count": 4,
      "outputs": [
        {
          "output_type": "stream",
          "name": "stdout",
          "text": [
            "Requirement already satisfied: geopandas in /usr/local/lib/python3.10/dist-packages (0.13.2)\n",
            "Requirement already satisfied: fiona>=1.8.19 in /usr/local/lib/python3.10/dist-packages (from geopandas) (1.9.4.post1)\n",
            "Requirement already satisfied: packaging in /usr/local/lib/python3.10/dist-packages (from geopandas) (23.2)\n",
            "Requirement already satisfied: pandas>=1.1.0 in /usr/local/lib/python3.10/dist-packages (from geopandas) (1.5.3)\n",
            "Requirement already satisfied: pyproj>=3.0.1 in /usr/local/lib/python3.10/dist-packages (from geopandas) (3.6.1)\n",
            "Requirement already satisfied: shapely>=1.7.1 in /usr/local/lib/python3.10/dist-packages (from geopandas) (2.0.1)\n",
            "Requirement already satisfied: attrs>=19.2.0 in /usr/local/lib/python3.10/dist-packages (from fiona>=1.8.19->geopandas) (23.1.0)\n",
            "Requirement already satisfied: certifi in /usr/local/lib/python3.10/dist-packages (from fiona>=1.8.19->geopandas) (2023.7.22)\n",
            "Requirement already satisfied: click~=8.0 in /usr/local/lib/python3.10/dist-packages (from fiona>=1.8.19->geopandas) (8.1.7)\n",
            "Requirement already satisfied: click-plugins>=1.0 in /usr/local/lib/python3.10/dist-packages (from fiona>=1.8.19->geopandas) (1.1.1)\n",
            "Requirement already satisfied: cligj>=0.5 in /usr/local/lib/python3.10/dist-packages (from fiona>=1.8.19->geopandas) (0.7.2)\n",
            "Requirement already satisfied: six in /usr/local/lib/python3.10/dist-packages (from fiona>=1.8.19->geopandas) (1.16.0)\n",
            "Requirement already satisfied: python-dateutil>=2.8.1 in /usr/local/lib/python3.10/dist-packages (from pandas>=1.1.0->geopandas) (2.8.2)\n",
            "Requirement already satisfied: pytz>=2020.1 in /usr/local/lib/python3.10/dist-packages (from pandas>=1.1.0->geopandas) (2023.3.post1)\n",
            "Requirement already satisfied: numpy>=1.21.0 in /usr/local/lib/python3.10/dist-packages (from pandas>=1.1.0->geopandas) (1.23.5)\n"
          ]
        }
      ]
    },
    {
      "cell_type": "markdown",
      "source": [
        "#### Téléchargement de chromedriver"
      ],
      "metadata": {
        "id": "TiRMBJPgpzi3"
      }
    },
    {
      "cell_type": "code",
      "source": [
        "# Set up for running selenium in Google Colab\n",
        "## You don't need to run this code if you do it in Jupyter notebook, or other local Python setting\n",
        "%%shell\n",
        "sudo apt -y update\n",
        "sudo apt install -y wget curl unzip\n",
        "wget http://archive.ubuntu.com/ubuntu/pool/main/libu/libu2f-host/libu2f-udev_1.1.4-1_all.deb\n",
        "dpkg -i libu2f-udev_1.1.4-1_all.deb\n",
        "wget https://dl.google.com/linux/direct/google-chrome-stable_current_amd64.deb\n",
        "dpkg -i google-chrome-stable_current_amd64.deb\n",
        "CHROME_DRIVER_VERSION=`curl -sS chromedriver.storage.googleapis.com/LATEST_RELEASE`\n",
        "wget -N https://chromedriver.storage.googleapis.com/$CHROME_DRIVER_VERSION/chromedriver_linux64.zip -P /tmp/\n",
        "unzip -o /tmp/chromedriver_linux64.zip -d /tmp/\n",
        "chmod +x /tmp/chromedriver\n",
        "mv /tmp/chromedriver /usr/local/bin/chromedriver"
      ],
      "metadata": {
        "colab": {
          "base_uri": "https://localhost:8080/"
        },
        "id": "83WiyuOI35y1",
        "outputId": "e05a99d0-4a4a-43d0-a7b6-0688cbc083b4"
      },
      "execution_count": 5,
      "outputs": [
        {
          "output_type": "stream",
          "name": "stdout",
          "text": [
            "\u001b[33m\r0% [Working]\u001b[0m\r            \rHit:1 https://cloud.r-project.org/bin/linux/ubuntu jammy-cran40/ InRelease\n",
            "Hit:2 https://developer.download.nvidia.com/compute/cuda/repos/ubuntu2204/x86_64  InRelease\n",
            "Hit:3 http://security.ubuntu.com/ubuntu jammy-security InRelease\n",
            "Hit:4 http://archive.ubuntu.com/ubuntu jammy InRelease\n",
            "Get:5 http://archive.ubuntu.com/ubuntu jammy-updates InRelease [119 kB]\n",
            "Hit:6 https://ppa.launchpadcontent.net/c2d4u.team/c2d4u4.0+/ubuntu jammy InRelease\n",
            "Get:7 http://archive.ubuntu.com/ubuntu jammy-backports InRelease [109 kB]\n",
            "Hit:8 https://ppa.launchpadcontent.net/deadsnakes/ppa/ubuntu jammy InRelease\n",
            "Get:9 http://archive.ubuntu.com/ubuntu jammy-updates/universe amd64 Packages [1,269 kB]\n",
            "Hit:10 https://ppa.launchpadcontent.net/graphics-drivers/ppa/ubuntu jammy InRelease\n",
            "Get:11 http://archive.ubuntu.com/ubuntu jammy-updates/main amd64 Packages [1,347 kB]\n",
            "Hit:12 https://ppa.launchpadcontent.net/ubuntugis/ppa/ubuntu jammy InRelease\n",
            "Fetched 2,844 kB in 2s (1,273 kB/s)\n",
            "Reading package lists... Done\n",
            "Building dependency tree... Done\n",
            "Reading state information... Done\n",
            "18 packages can be upgraded. Run 'apt list --upgradable' to see them.\n",
            "Reading package lists... Done\n",
            "Building dependency tree... Done\n",
            "Reading state information... Done\n",
            "wget is already the newest version (1.21.2-2ubuntu1).\n",
            "curl is already the newest version (7.81.0-1ubuntu1.14).\n",
            "unzip is already the newest version (6.0-26ubuntu3.1).\n",
            "You might want to run 'apt --fix-broken install' to correct these.\n",
            "The following packages have unmet dependencies:\n",
            " google-chrome-stable : Depends: libvulkan1 but it is not going to be installed\n",
            "\u001b[1;31mE: \u001b[0mUnmet dependencies. Try 'apt --fix-broken install' with no packages (or specify a solution).\u001b[0m\n",
            "--2023-10-12 21:11:06--  http://archive.ubuntu.com/ubuntu/pool/main/libu/libu2f-host/libu2f-udev_1.1.4-1_all.deb\n",
            "Resolving archive.ubuntu.com (archive.ubuntu.com)... 185.125.190.39, 91.189.91.81, 91.189.91.83, ...\n",
            "Connecting to archive.ubuntu.com (archive.ubuntu.com)|185.125.190.39|:80... connected.\n",
            "HTTP request sent, awaiting response... 200 OK\n",
            "Length: 3708 (3.6K) [application/x-debian-package]\n",
            "Saving to: ‘libu2f-udev_1.1.4-1_all.deb.6’\n",
            "\n",
            "libu2f-udev_1.1.4-1 100%[===================>]   3.62K  --.-KB/s    in 0s      \n",
            "\n",
            "2023-10-12 21:11:06 (236 MB/s) - ‘libu2f-udev_1.1.4-1_all.deb.6’ saved [3708/3708]\n",
            "\n",
            "(Reading database ... 121462 files and directories currently installed.)\n",
            "Preparing to unpack libu2f-udev_1.1.4-1_all.deb ...\n",
            "Unpacking libu2f-udev (1.1.4-1) over (1.1.4-1) ...\n",
            "Setting up libu2f-udev (1.1.4-1) ...\n",
            "--2023-10-12 21:11:07--  https://dl.google.com/linux/direct/google-chrome-stable_current_amd64.deb\n",
            "Resolving dl.google.com (dl.google.com)... 74.125.69.93, 74.125.69.136, 74.125.69.91, ...\n",
            "Connecting to dl.google.com (dl.google.com)|74.125.69.93|:443... connected.\n",
            "HTTP request sent, awaiting response... 200 OK\n",
            "Length: 104074512 (99M) [application/x-debian-package]\n",
            "Saving to: ‘google-chrome-stable_current_amd64.deb.6’\n",
            "\n",
            "google-chrome-stabl 100%[===================>]  99.25M  24.9MB/s    in 4.8s    \n",
            "\n",
            "2023-10-12 21:11:12 (20.6 MB/s) - ‘google-chrome-stable_current_amd64.deb.6’ saved [104074512/104074512]\n",
            "\n",
            "(Reading database ... 121462 files and directories currently installed.)\n",
            "Preparing to unpack google-chrome-stable_current_amd64.deb ...\n",
            "Unpacking google-chrome-stable (118.0.5993.70-1) over (118.0.5993.70-1) ...\n",
            "\u001b[1mdpkg:\u001b[0m dependency problems prevent configuration of google-chrome-stable:\n",
            " google-chrome-stable depends on libvulkan1; however:\n",
            "  Package libvulkan1 is not installed.\n",
            "\n",
            "\u001b[1mdpkg:\u001b[0m error processing package google-chrome-stable (--install):\n",
            " dependency problems - leaving unconfigured\n",
            "Processing triggers for man-db (2.10.2-1) ...\n",
            "Errors were encountered while processing:\n",
            " google-chrome-stable\n",
            "--2023-10-12 21:11:33--  https://chromedriver.storage.googleapis.com/114.0.5735.90/chromedriver_linux64.zip\n",
            "Resolving chromedriver.storage.googleapis.com (chromedriver.storage.googleapis.com)... 108.177.120.207, 173.194.206.207, 172.217.212.207, ...\n",
            "Connecting to chromedriver.storage.googleapis.com (chromedriver.storage.googleapis.com)|108.177.120.207|:443... connected.\n",
            "HTTP request sent, awaiting response... 304 Not Modified\n",
            "File ‘/tmp/chromedriver_linux64.zip’ not modified on server. Omitting download.\n",
            "\n",
            "Archive:  /tmp/chromedriver_linux64.zip\n",
            "  inflating: /tmp/chromedriver       \n",
            "  inflating: /tmp/LICENSE.chromedriver  \n"
          ]
        },
        {
          "output_type": "execute_result",
          "data": {
            "text/plain": []
          },
          "metadata": {},
          "execution_count": 5
        }
      ]
    },
    {
      "cell_type": "markdown",
      "source": [
        "#### Installation et configuration de chromedriver"
      ],
      "metadata": {
        "id": "sRp1CFyBp5WF"
      }
    },
    {
      "cell_type": "code",
      "source": [
        "!pip install chromedriver-autoinstaller\n",
        "\n",
        "import sys\n",
        "sys.path.insert(0,'/usr/lib/chromium-browser/chromedriver')\n",
        "\n",
        "import time\n",
        "import pandas as pd\n",
        "from bs4 import BeautifulSoup\n",
        "from selenium import webdriver\n",
        "import chromedriver_autoinstaller\n",
        "\n",
        "# setup chrome options\n",
        "chrome_options = webdriver.ChromeOptions()\n",
        "chrome_options.add_argument('--headless') # ensure GUI is off\n",
        "chrome_options.add_argument('--no-sandbox')\n",
        "chrome_options.add_argument('--disable-dev-shm-usage')\n",
        "\n",
        "# set path to chromedriver as per your configuration\n",
        "chromedriver_autoinstaller.install()\n",
        "\n",
        "# set the target URL\n",
        "url = \"put-url-here-to-scrape\"\n",
        "\n",
        "# set up the webdriver\n",
        "driver = webdriver.Chrome(options=chrome_options)"
      ],
      "metadata": {
        "colab": {
          "base_uri": "https://localhost:8080/"
        },
        "id": "bkYf6IQg8IJB",
        "outputId": "4628cdf4-9b9b-4e72-a870-8c2523985a01"
      },
      "execution_count": 6,
      "outputs": [
        {
          "output_type": "stream",
          "name": "stdout",
          "text": [
            "Requirement already satisfied: chromedriver-autoinstaller in /usr/local/lib/python3.10/dist-packages (0.6.2)\n"
          ]
        }
      ]
    },
    {
      "cell_type": "markdown",
      "source": [
        "### Importation des bibliothèques"
      ],
      "metadata": {
        "id": "RkOaFlfv0548"
      }
    },
    {
      "cell_type": "code",
      "source": [
        "import folium\n",
        "import time\n",
        "import pickle\n",
        "import matplotlib.pyplot as plt\n",
        "import os\n",
        "from selenium import webdriver\n",
        "import os\n",
        "\n",
        "from selenium.webdriver.firefox.options import Options\n",
        "import imageio as iio\n",
        "import numpy as np\n",
        "import geopandas as gpd\n",
        "import numpy\n",
        "\n",
        "from selenium.webdriver.support.ui import WebDriverWait\n",
        "from selenium.webdriver.support import expected_conditions as EC\n",
        "from selenium.webdriver.common.by import By"
      ],
      "metadata": {
        "id": "pDffRjFK09rz"
      },
      "execution_count": 7,
      "outputs": []
    },
    {
      "cell_type": "markdown",
      "source": [
        "### Creation de la fonction de normalisation des images"
      ],
      "metadata": {
        "id": "2kHE6izX1eUA"
      }
    },
    {
      "cell_type": "code",
      "source": [
        "def normalize(img):\n",
        "    min_val = np.min(img)\n",
        "    max_val = np.max(img)\n",
        "    normalized_image = (img - min_val) / (max_val - min_val)\n",
        "    return normalized_image"
      ],
      "metadata": {
        "id": "kO_5hibj1AFJ"
      },
      "execution_count": 8,
      "outputs": []
    },
    {
      "cell_type": "markdown",
      "source": [
        "### Chargement et lecture du dataset OpenStreetMap"
      ],
      "metadata": {
        "id": "UkSaj6dN1lkf"
      }
    },
    {
      "cell_type": "code",
      "source": [
        "gdf = gpd.read_file('/content/drive/MyDrive/senegal-and-gambia-latest-free/gis_osm_landuse_a_free_1.shp')\n",
        "gdf.head()"
      ],
      "metadata": {
        "colab": {
          "base_uri": "https://localhost:8080/",
          "height": 206
        },
        "id": "Z3DBFX_C1hXC",
        "outputId": "f1e4c965-94ea-411b-eb98-8ebd5f2c755b"
      },
      "execution_count": 9,
      "outputs": [
        {
          "output_type": "execute_result",
          "data": {
            "text/plain": [
              "     osm_id  code  fclass name  \\\n",
              "0  15933712  7201  forest  NaN   \n",
              "1   4103595  7201  forest  NaN   \n",
              "2   4103596  7201  forest  NaN   \n",
              "3   4114010  7217   scrub  NaN   \n",
              "4   4114713  7218   grass  NaN   \n",
              "\n",
              "                                            geometry  \n",
              "0  POLYGON ((-14.95131 13.71200, -14.95108 13.712...  \n",
              "1  POLYGON ((-14.93078 13.65056, -14.93059 13.650...  \n",
              "2  POLYGON ((-14.92519 13.64409, -14.92509 13.644...  \n",
              "3  POLYGON ((-16.81421 14.14195, -16.81421 14.142...  \n",
              "4  POLYGON ((-16.12162 14.11550, -16.12152 14.115...  "
            ],
            "text/html": [
              "\n",
              "  <div id=\"df-eaf059df-f2bb-4600-9995-7c1e3bf5e0ed\" class=\"colab-df-container\">\n",
              "    <div>\n",
              "<style scoped>\n",
              "    .dataframe tbody tr th:only-of-type {\n",
              "        vertical-align: middle;\n",
              "    }\n",
              "\n",
              "    .dataframe tbody tr th {\n",
              "        vertical-align: top;\n",
              "    }\n",
              "\n",
              "    .dataframe thead th {\n",
              "        text-align: right;\n",
              "    }\n",
              "</style>\n",
              "<table border=\"1\" class=\"dataframe\">\n",
              "  <thead>\n",
              "    <tr style=\"text-align: right;\">\n",
              "      <th></th>\n",
              "      <th>osm_id</th>\n",
              "      <th>code</th>\n",
              "      <th>fclass</th>\n",
              "      <th>name</th>\n",
              "      <th>geometry</th>\n",
              "    </tr>\n",
              "  </thead>\n",
              "  <tbody>\n",
              "    <tr>\n",
              "      <th>0</th>\n",
              "      <td>15933712</td>\n",
              "      <td>7201</td>\n",
              "      <td>forest</td>\n",
              "      <td>NaN</td>\n",
              "      <td>POLYGON ((-14.95131 13.71200, -14.95108 13.712...</td>\n",
              "    </tr>\n",
              "    <tr>\n",
              "      <th>1</th>\n",
              "      <td>4103595</td>\n",
              "      <td>7201</td>\n",
              "      <td>forest</td>\n",
              "      <td>NaN</td>\n",
              "      <td>POLYGON ((-14.93078 13.65056, -14.93059 13.650...</td>\n",
              "    </tr>\n",
              "    <tr>\n",
              "      <th>2</th>\n",
              "      <td>4103596</td>\n",
              "      <td>7201</td>\n",
              "      <td>forest</td>\n",
              "      <td>NaN</td>\n",
              "      <td>POLYGON ((-14.92519 13.64409, -14.92509 13.644...</td>\n",
              "    </tr>\n",
              "    <tr>\n",
              "      <th>3</th>\n",
              "      <td>4114010</td>\n",
              "      <td>7217</td>\n",
              "      <td>scrub</td>\n",
              "      <td>NaN</td>\n",
              "      <td>POLYGON ((-16.81421 14.14195, -16.81421 14.142...</td>\n",
              "    </tr>\n",
              "    <tr>\n",
              "      <th>4</th>\n",
              "      <td>4114713</td>\n",
              "      <td>7218</td>\n",
              "      <td>grass</td>\n",
              "      <td>NaN</td>\n",
              "      <td>POLYGON ((-16.12162 14.11550, -16.12152 14.115...</td>\n",
              "    </tr>\n",
              "  </tbody>\n",
              "</table>\n",
              "</div>\n",
              "    <div class=\"colab-df-buttons\">\n",
              "\n",
              "  <div class=\"colab-df-container\">\n",
              "    <button class=\"colab-df-convert\" onclick=\"convertToInteractive('df-eaf059df-f2bb-4600-9995-7c1e3bf5e0ed')\"\n",
              "            title=\"Convert this dataframe to an interactive table.\"\n",
              "            style=\"display:none;\">\n",
              "\n",
              "  <svg xmlns=\"http://www.w3.org/2000/svg\" height=\"24px\" viewBox=\"0 -960 960 960\">\n",
              "    <path d=\"M120-120v-720h720v720H120Zm60-500h600v-160H180v160Zm220 220h160v-160H400v160Zm0 220h160v-160H400v160ZM180-400h160v-160H180v160Zm440 0h160v-160H620v160ZM180-180h160v-160H180v160Zm440 0h160v-160H620v160Z\"/>\n",
              "  </svg>\n",
              "    </button>\n",
              "\n",
              "  <style>\n",
              "    .colab-df-container {\n",
              "      display:flex;\n",
              "      gap: 12px;\n",
              "    }\n",
              "\n",
              "    .colab-df-convert {\n",
              "      background-color: #E8F0FE;\n",
              "      border: none;\n",
              "      border-radius: 50%;\n",
              "      cursor: pointer;\n",
              "      display: none;\n",
              "      fill: #1967D2;\n",
              "      height: 32px;\n",
              "      padding: 0 0 0 0;\n",
              "      width: 32px;\n",
              "    }\n",
              "\n",
              "    .colab-df-convert:hover {\n",
              "      background-color: #E2EBFA;\n",
              "      box-shadow: 0px 1px 2px rgba(60, 64, 67, 0.3), 0px 1px 3px 1px rgba(60, 64, 67, 0.15);\n",
              "      fill: #174EA6;\n",
              "    }\n",
              "\n",
              "    .colab-df-buttons div {\n",
              "      margin-bottom: 4px;\n",
              "    }\n",
              "\n",
              "    [theme=dark] .colab-df-convert {\n",
              "      background-color: #3B4455;\n",
              "      fill: #D2E3FC;\n",
              "    }\n",
              "\n",
              "    [theme=dark] .colab-df-convert:hover {\n",
              "      background-color: #434B5C;\n",
              "      box-shadow: 0px 1px 3px 1px rgba(0, 0, 0, 0.15);\n",
              "      filter: drop-shadow(0px 1px 2px rgba(0, 0, 0, 0.3));\n",
              "      fill: #FFFFFF;\n",
              "    }\n",
              "  </style>\n",
              "\n",
              "    <script>\n",
              "      const buttonEl =\n",
              "        document.querySelector('#df-eaf059df-f2bb-4600-9995-7c1e3bf5e0ed button.colab-df-convert');\n",
              "      buttonEl.style.display =\n",
              "        google.colab.kernel.accessAllowed ? 'block' : 'none';\n",
              "\n",
              "      async function convertToInteractive(key) {\n",
              "        const element = document.querySelector('#df-eaf059df-f2bb-4600-9995-7c1e3bf5e0ed');\n",
              "        const dataTable =\n",
              "          await google.colab.kernel.invokeFunction('convertToInteractive',\n",
              "                                                    [key], {});\n",
              "        if (!dataTable) return;\n",
              "\n",
              "        const docLinkHtml = 'Like what you see? Visit the ' +\n",
              "          '<a target=\"_blank\" href=https://colab.research.google.com/notebooks/data_table.ipynb>data table notebook</a>'\n",
              "          + ' to learn more about interactive tables.';\n",
              "        element.innerHTML = '';\n",
              "        dataTable['output_type'] = 'display_data';\n",
              "        await google.colab.output.renderOutput(dataTable, element);\n",
              "        const docLink = document.createElement('div');\n",
              "        docLink.innerHTML = docLinkHtml;\n",
              "        element.appendChild(docLink);\n",
              "      }\n",
              "    </script>\n",
              "  </div>\n",
              "\n",
              "\n",
              "<div id=\"df-5ce82374-48d4-46bb-9727-951228045704\">\n",
              "  <button class=\"colab-df-quickchart\" onclick=\"quickchart('df-5ce82374-48d4-46bb-9727-951228045704')\"\n",
              "            title=\"Suggest charts.\"\n",
              "            style=\"display:none;\">\n",
              "\n",
              "<svg xmlns=\"http://www.w3.org/2000/svg\" height=\"24px\"viewBox=\"0 0 24 24\"\n",
              "     width=\"24px\">\n",
              "    <g>\n",
              "        <path d=\"M19 3H5c-1.1 0-2 .9-2 2v14c0 1.1.9 2 2 2h14c1.1 0 2-.9 2-2V5c0-1.1-.9-2-2-2zM9 17H7v-7h2v7zm4 0h-2V7h2v10zm4 0h-2v-4h2v4z\"/>\n",
              "    </g>\n",
              "</svg>\n",
              "  </button>\n",
              "\n",
              "<style>\n",
              "  .colab-df-quickchart {\n",
              "      --bg-color: #E8F0FE;\n",
              "      --fill-color: #1967D2;\n",
              "      --hover-bg-color: #E2EBFA;\n",
              "      --hover-fill-color: #174EA6;\n",
              "      --disabled-fill-color: #AAA;\n",
              "      --disabled-bg-color: #DDD;\n",
              "  }\n",
              "\n",
              "  [theme=dark] .colab-df-quickchart {\n",
              "      --bg-color: #3B4455;\n",
              "      --fill-color: #D2E3FC;\n",
              "      --hover-bg-color: #434B5C;\n",
              "      --hover-fill-color: #FFFFFF;\n",
              "      --disabled-bg-color: #3B4455;\n",
              "      --disabled-fill-color: #666;\n",
              "  }\n",
              "\n",
              "  .colab-df-quickchart {\n",
              "    background-color: var(--bg-color);\n",
              "    border: none;\n",
              "    border-radius: 50%;\n",
              "    cursor: pointer;\n",
              "    display: none;\n",
              "    fill: var(--fill-color);\n",
              "    height: 32px;\n",
              "    padding: 0;\n",
              "    width: 32px;\n",
              "  }\n",
              "\n",
              "  .colab-df-quickchart:hover {\n",
              "    background-color: var(--hover-bg-color);\n",
              "    box-shadow: 0 1px 2px rgba(60, 64, 67, 0.3), 0 1px 3px 1px rgba(60, 64, 67, 0.15);\n",
              "    fill: var(--button-hover-fill-color);\n",
              "  }\n",
              "\n",
              "  .colab-df-quickchart-complete:disabled,\n",
              "  .colab-df-quickchart-complete:disabled:hover {\n",
              "    background-color: var(--disabled-bg-color);\n",
              "    fill: var(--disabled-fill-color);\n",
              "    box-shadow: none;\n",
              "  }\n",
              "\n",
              "  .colab-df-spinner {\n",
              "    border: 2px solid var(--fill-color);\n",
              "    border-color: transparent;\n",
              "    border-bottom-color: var(--fill-color);\n",
              "    animation:\n",
              "      spin 1s steps(1) infinite;\n",
              "  }\n",
              "\n",
              "  @keyframes spin {\n",
              "    0% {\n",
              "      border-color: transparent;\n",
              "      border-bottom-color: var(--fill-color);\n",
              "      border-left-color: var(--fill-color);\n",
              "    }\n",
              "    20% {\n",
              "      border-color: transparent;\n",
              "      border-left-color: var(--fill-color);\n",
              "      border-top-color: var(--fill-color);\n",
              "    }\n",
              "    30% {\n",
              "      border-color: transparent;\n",
              "      border-left-color: var(--fill-color);\n",
              "      border-top-color: var(--fill-color);\n",
              "      border-right-color: var(--fill-color);\n",
              "    }\n",
              "    40% {\n",
              "      border-color: transparent;\n",
              "      border-right-color: var(--fill-color);\n",
              "      border-top-color: var(--fill-color);\n",
              "    }\n",
              "    60% {\n",
              "      border-color: transparent;\n",
              "      border-right-color: var(--fill-color);\n",
              "    }\n",
              "    80% {\n",
              "      border-color: transparent;\n",
              "      border-right-color: var(--fill-color);\n",
              "      border-bottom-color: var(--fill-color);\n",
              "    }\n",
              "    90% {\n",
              "      border-color: transparent;\n",
              "      border-bottom-color: var(--fill-color);\n",
              "    }\n",
              "  }\n",
              "</style>\n",
              "\n",
              "  <script>\n",
              "    async function quickchart(key) {\n",
              "      const quickchartButtonEl =\n",
              "        document.querySelector('#' + key + ' button');\n",
              "      quickchartButtonEl.disabled = true;  // To prevent multiple clicks.\n",
              "      quickchartButtonEl.classList.add('colab-df-spinner');\n",
              "      try {\n",
              "        const charts = await google.colab.kernel.invokeFunction(\n",
              "            'suggestCharts', [key], {});\n",
              "      } catch (error) {\n",
              "        console.error('Error during call to suggestCharts:', error);\n",
              "      }\n",
              "      quickchartButtonEl.classList.remove('colab-df-spinner');\n",
              "      quickchartButtonEl.classList.add('colab-df-quickchart-complete');\n",
              "    }\n",
              "    (() => {\n",
              "      let quickchartButtonEl =\n",
              "        document.querySelector('#df-5ce82374-48d4-46bb-9727-951228045704 button');\n",
              "      quickchartButtonEl.style.display =\n",
              "        google.colab.kernel.accessAllowed ? 'block' : 'none';\n",
              "    })();\n",
              "  </script>\n",
              "</div>\n",
              "    </div>\n",
              "  </div>\n"
            ]
          },
          "metadata": {},
          "execution_count": 9
        }
      ]
    },
    {
      "cell_type": "markdown",
      "source": [
        "#### 1. Sur la base de nos données, nous disposons d'une géométrie polygonale pour les forêts. Nous devons la convertir en point pour alimenter la bibliothèque folium."
      ],
      "metadata": {
        "id": "OPrbf4Ps2Hdc"
      }
    },
    {
      "cell_type": "markdown",
      "source": [
        "Affichage du crs (système de coordonnées) de notre fichiers"
      ],
      "metadata": {
        "id": "nY2cfQvOqE-O"
      }
    },
    {
      "cell_type": "code",
      "source": [
        "gdf.crs"
      ],
      "metadata": {
        "colab": {
          "base_uri": "https://localhost:8080/"
        },
        "id": "l9BM4Zpi15qP",
        "outputId": "cb64447b-c707-4483-8e42-4c8d20ae4b0e"
      },
      "execution_count": 10,
      "outputs": [
        {
          "output_type": "execute_result",
          "data": {
            "text/plain": [
              "<Geographic 2D CRS: EPSG:4326>\n",
              "Name: WGS 84\n",
              "Axis Info [ellipsoidal]:\n",
              "- Lat[north]: Geodetic latitude (degree)\n",
              "- Lon[east]: Geodetic longitude (degree)\n",
              "Area of Use:\n",
              "- name: World.\n",
              "- bounds: (-180.0, -90.0, 180.0, 90.0)\n",
              "Datum: World Geodetic System 1984 ensemble\n",
              "- Ellipsoid: WGS 84\n",
              "- Prime Meridian: Greenwich"
            ]
          },
          "metadata": {},
          "execution_count": 10
        }
      ]
    },
    {
      "cell_type": "markdown",
      "source": [
        "Nous sélectionnons la forêt de Fathala dont l'id est '15521144' et on l'enregistre dans une variable"
      ],
      "metadata": {
        "id": "5TWIqm8oqLly"
      }
    },
    {
      "cell_type": "code",
      "source": [
        "id = '15521144'\n",
        "st = time.time()\n",
        "# Obtenir l'élément du jeu de données\n",
        "shapefile_forest = gdf[gdf['osm_id'] == id]\n",
        "df = shapefile_forest\n",
        "df.crs\n",
        "df = df.to_crs(epsg=4326)\n",
        "\n",
        "# Calculer la localisation en utilisant le point représentatif\n",
        "location = [float(df.geometry.representative_point().y.iloc[0]), float(df.geometry.representative_point().x.iloc[0])]"
      ],
      "metadata": {
        "id": "2Me0-xAZ2MM5"
      },
      "execution_count": 11,
      "outputs": []
    },
    {
      "cell_type": "markdown",
      "source": [
        "2. Nous préparons maintenant l'image principale à l'aide de folium"
      ],
      "metadata": {
        "id": "g1t7jRh-rd8g"
      }
    },
    {
      "cell_type": "code",
      "source": [
        "m_map = folium.Map(location=[14.4974, -14.4524], width=600, height=600, zoom_start=13, tiles='CartoDB positron')\n",
        "#Map\n",
        "#m = folium.Map(location,  zoom_start=20, tiles='CartoDB positron')\n",
        "tile = folium.TileLayer( tiles = 'https://server.arcgisonline.com/ArcGIS/rest/services/World_Imagery/MapServer/tile/{z}/{y}/{x}',         attr = 'Esri',        name = 'Esri Satellite',        overlay = False,        control = False       ).add_to(m_map)\n",
        "\n",
        "mapFname = 'map.html'\n",
        "m_map.save(mapFname)\n",
        "mapUrl = 'file://{0}\\\\{1}'.format(os.getcwd(), mapFname)\n",
        "m_map"
      ],
      "metadata": {
        "colab": {
          "base_uri": "https://localhost:8080/",
          "height": 763
        },
        "id": "VuIWrdS0_IBc",
        "outputId": "3365cf7d-9c42-452c-950d-8fc0bbac0a9b"
      },
      "execution_count": 12,
      "outputs": [
        {
          "output_type": "execute_result",
          "data": {
            "text/plain": [
              "<folium.folium.Map at 0x7fccf65876d0>"
            ],
            "text/html": [
              "<div style=\"width:100%;\"><div style=\"position:relative;width:100%;height:0;padding-bottom:60%;\"><span style=\"color:#565656\">Make this Notebook Trusted to load map: File -> Trust Notebook</span><iframe srcdoc=\"&lt;!DOCTYPE html&gt;\n",
              "&lt;html&gt;\n",
              "&lt;head&gt;\n",
              "    \n",
              "    &lt;meta http-equiv=&quot;content-type&quot; content=&quot;text/html; charset=UTF-8&quot; /&gt;\n",
              "    \n",
              "        &lt;script&gt;\n",
              "            L_NO_TOUCH = false;\n",
              "            L_DISABLE_3D = false;\n",
              "        &lt;/script&gt;\n",
              "    \n",
              "    &lt;style&gt;html, body {width: 100%;height: 100%;margin: 0;padding: 0;}&lt;/style&gt;\n",
              "    &lt;style&gt;#map {position:absolute;top:0;bottom:0;right:0;left:0;}&lt;/style&gt;\n",
              "    &lt;script src=&quot;https://cdn.jsdelivr.net/npm/leaflet@1.9.3/dist/leaflet.js&quot;&gt;&lt;/script&gt;\n",
              "    &lt;script src=&quot;https://code.jquery.com/jquery-1.12.4.min.js&quot;&gt;&lt;/script&gt;\n",
              "    &lt;script src=&quot;https://cdn.jsdelivr.net/npm/bootstrap@5.2.2/dist/js/bootstrap.bundle.min.js&quot;&gt;&lt;/script&gt;\n",
              "    &lt;script src=&quot;https://cdnjs.cloudflare.com/ajax/libs/Leaflet.awesome-markers/2.0.2/leaflet.awesome-markers.js&quot;&gt;&lt;/script&gt;\n",
              "    &lt;link rel=&quot;stylesheet&quot; href=&quot;https://cdn.jsdelivr.net/npm/leaflet@1.9.3/dist/leaflet.css&quot;/&gt;\n",
              "    &lt;link rel=&quot;stylesheet&quot; href=&quot;https://cdn.jsdelivr.net/npm/bootstrap@5.2.2/dist/css/bootstrap.min.css&quot;/&gt;\n",
              "    &lt;link rel=&quot;stylesheet&quot; href=&quot;https://netdna.bootstrapcdn.com/bootstrap/3.0.0/css/bootstrap.min.css&quot;/&gt;\n",
              "    &lt;link rel=&quot;stylesheet&quot; href=&quot;https://cdn.jsdelivr.net/npm/@fortawesome/fontawesome-free@6.2.0/css/all.min.css&quot;/&gt;\n",
              "    &lt;link rel=&quot;stylesheet&quot; href=&quot;https://cdnjs.cloudflare.com/ajax/libs/Leaflet.awesome-markers/2.0.2/leaflet.awesome-markers.css&quot;/&gt;\n",
              "    &lt;link rel=&quot;stylesheet&quot; href=&quot;https://cdn.jsdelivr.net/gh/python-visualization/folium/folium/templates/leaflet.awesome.rotate.min.css&quot;/&gt;\n",
              "    \n",
              "            &lt;meta name=&quot;viewport&quot; content=&quot;width=device-width,\n",
              "                initial-scale=1.0, maximum-scale=1.0, user-scalable=no&quot; /&gt;\n",
              "            &lt;style&gt;\n",
              "                #map_238a4f6c977375cc2aea2b36778c4c8e {\n",
              "                    position: relative;\n",
              "                    width: 600.0px;\n",
              "                    height: 600.0px;\n",
              "                    left: 0.0%;\n",
              "                    top: 0.0%;\n",
              "                }\n",
              "                .leaflet-container { font-size: 1rem; }\n",
              "            &lt;/style&gt;\n",
              "        \n",
              "&lt;/head&gt;\n",
              "&lt;body&gt;\n",
              "    \n",
              "    \n",
              "            &lt;div class=&quot;folium-map&quot; id=&quot;map_238a4f6c977375cc2aea2b36778c4c8e&quot; &gt;&lt;/div&gt;\n",
              "        \n",
              "&lt;/body&gt;\n",
              "&lt;script&gt;\n",
              "    \n",
              "    \n",
              "            var map_238a4f6c977375cc2aea2b36778c4c8e = L.map(\n",
              "                &quot;map_238a4f6c977375cc2aea2b36778c4c8e&quot;,\n",
              "                {\n",
              "                    center: [14.4974, -14.4524],\n",
              "                    crs: L.CRS.EPSG3857,\n",
              "                    zoom: 13,\n",
              "                    zoomControl: true,\n",
              "                    preferCanvas: false,\n",
              "                }\n",
              "            );\n",
              "\n",
              "            \n",
              "\n",
              "        \n",
              "    \n",
              "            var tile_layer_18c6303d66e56a3f0f2370355826b57f = L.tileLayer(\n",
              "                &quot;https://cartodb-basemaps-{s}.global.ssl.fastly.net/light_all/{z}/{x}/{y}.png&quot;,\n",
              "                {&quot;attribution&quot;: &quot;\\u0026copy; \\u003ca target=\\&quot;_blank\\&quot; href=\\&quot;http://www.openstreetmap.org/copyright\\&quot;\\u003eOpenStreetMap\\u003c/a\\u003e contributors \\u0026copy; \\u003ca target=\\&quot;_blank\\&quot; href=\\&quot;http://cartodb.com/attributions\\&quot;\\u003eCartoDB\\u003c/a\\u003e, CartoDB \\u003ca target=\\&quot;_blank\\&quot; href =\\&quot;http://cartodb.com/attributions\\&quot;\\u003eattributions\\u003c/a\\u003e&quot;, &quot;detectRetina&quot;: false, &quot;maxNativeZoom&quot;: 18, &quot;maxZoom&quot;: 18, &quot;minZoom&quot;: 0, &quot;noWrap&quot;: false, &quot;opacity&quot;: 1, &quot;subdomains&quot;: &quot;abc&quot;, &quot;tms&quot;: false}\n",
              "            ).addTo(map_238a4f6c977375cc2aea2b36778c4c8e);\n",
              "        \n",
              "    \n",
              "            var tile_layer_1d4632b5f7394b39f0b03761d455eb6c = L.tileLayer(\n",
              "                &quot;https://server.arcgisonline.com/ArcGIS/rest/services/World_Imagery/MapServer/tile/{z}/{y}/{x}&quot;,\n",
              "                {&quot;attribution&quot;: &quot;Esri&quot;, &quot;detectRetina&quot;: false, &quot;maxNativeZoom&quot;: 18, &quot;maxZoom&quot;: 18, &quot;minZoom&quot;: 0, &quot;noWrap&quot;: false, &quot;opacity&quot;: 1, &quot;subdomains&quot;: &quot;abc&quot;, &quot;tms&quot;: false}\n",
              "            ).addTo(map_238a4f6c977375cc2aea2b36778c4c8e);\n",
              "        \n",
              "&lt;/script&gt;\n",
              "&lt;/html&gt;\" style=\"position:absolute;width:100%;height:100%;left:0;top:0;border:none !important;\" allowfullscreen webkitallowfullscreen mozallowfullscreen></iframe></div></div>"
            ]
          },
          "metadata": {},
          "execution_count": 12
        }
      ]
    },
    {
      "cell_type": "markdown",
      "source": [
        "le code pour trouver le chemin de l'image dans colab"
      ],
      "metadata": {
        "id": "b7GV9Mtgq3wz"
      }
    },
    {
      "cell_type": "code",
      "source": [
        "screenshot_path = os.path.join(os.getcwd(), 'output.png')\n",
        "print(\"Chemin de la capture d'écran :\", screenshot_path)"
      ],
      "metadata": {
        "colab": {
          "base_uri": "https://localhost:8080/"
        },
        "id": "Su3MAVF-CLcu",
        "outputId": "5a123deb-113f-4323-9475-69dde0e8693a"
      },
      "execution_count": 13,
      "outputs": [
        {
          "output_type": "stream",
          "name": "stdout",
          "text": [
            "Chemin de la capture d'écran : /content/output.png\n"
          ]
        }
      ]
    },
    {
      "cell_type": "markdown",
      "source": [
        "3. Nous allons maintenant utiliser la même bibliothèque pour ajouter notre objet spatial à la carte et préparer l'image combinée. On la rends spécifiquement super rouge afin de pouvoir la séparer dans un masque plus tard."
      ],
      "metadata": {
        "id": "DQGEfDkvD4uv"
      }
    },
    {
      "cell_type": "code",
      "source": [
        "#mask\n",
        "m = folium.Map(location, width=600, height=600, zoom_start=13, tiles='CartoDB positron')\n",
        "\n",
        "tile = folium.TileLayer(tiles='https://server.arcgisonline.com/ArcGIS/rest/services/World_Imagery/MapServer/tile/{z}/{y}/{x}', attr='Esri', name='Esri Satellite', overlay=False, control=False).add_to(m)\n",
        "\n",
        "style = {\"color\": \"red\", \"fillOpacity\": 0.89}\n",
        "\n",
        "for _, r in df.iterrows():\n",
        "    # Without simplifying the representation of each borough,\n",
        "    # the map might not be displayed\n",
        "    sim_geo = gpd.GeoSeries(r['geometry']).simplify(tolerance=.5)\n",
        "    geo_j = sim_geo.to_json()\n",
        "    geo_j = folium.GeoJson(data=geo_j, style_function=lambda x: style)\n",
        "    folium.Popup(r['name']).add_to(geo_j)\n",
        "    geo_j.add_to(m)\n",
        "\n",
        "maskFname = 'mask.html'\n",
        "m.save(maskFname)\n",
        "maskUrl = 'file://{0}/{1}'.format(os.getcwd(), maskFname)\n",
        "m"
      ],
      "metadata": {
        "colab": {
          "base_uri": "https://localhost:8080/",
          "height": 763
        },
        "id": "_0bbWQebAQvI",
        "outputId": "11fe1993-9490-490b-9bc8-b2bff44ee407"
      },
      "execution_count": 14,
      "outputs": [
        {
          "output_type": "execute_result",
          "data": {
            "text/plain": [
              "<folium.folium.Map at 0x7fccf65850c0>"
            ],
            "text/html": [
              "<div style=\"width:100%;\"><div style=\"position:relative;width:100%;height:0;padding-bottom:60%;\"><span style=\"color:#565656\">Make this Notebook Trusted to load map: File -> Trust Notebook</span><iframe srcdoc=\"&lt;!DOCTYPE html&gt;\n",
              "&lt;html&gt;\n",
              "&lt;head&gt;\n",
              "    \n",
              "    &lt;meta http-equiv=&quot;content-type&quot; content=&quot;text/html; charset=UTF-8&quot; /&gt;\n",
              "    \n",
              "        &lt;script&gt;\n",
              "            L_NO_TOUCH = false;\n",
              "            L_DISABLE_3D = false;\n",
              "        &lt;/script&gt;\n",
              "    \n",
              "    &lt;style&gt;html, body {width: 100%;height: 100%;margin: 0;padding: 0;}&lt;/style&gt;\n",
              "    &lt;style&gt;#map {position:absolute;top:0;bottom:0;right:0;left:0;}&lt;/style&gt;\n",
              "    &lt;script src=&quot;https://cdn.jsdelivr.net/npm/leaflet@1.9.3/dist/leaflet.js&quot;&gt;&lt;/script&gt;\n",
              "    &lt;script src=&quot;https://code.jquery.com/jquery-1.12.4.min.js&quot;&gt;&lt;/script&gt;\n",
              "    &lt;script src=&quot;https://cdn.jsdelivr.net/npm/bootstrap@5.2.2/dist/js/bootstrap.bundle.min.js&quot;&gt;&lt;/script&gt;\n",
              "    &lt;script src=&quot;https://cdnjs.cloudflare.com/ajax/libs/Leaflet.awesome-markers/2.0.2/leaflet.awesome-markers.js&quot;&gt;&lt;/script&gt;\n",
              "    &lt;link rel=&quot;stylesheet&quot; href=&quot;https://cdn.jsdelivr.net/npm/leaflet@1.9.3/dist/leaflet.css&quot;/&gt;\n",
              "    &lt;link rel=&quot;stylesheet&quot; href=&quot;https://cdn.jsdelivr.net/npm/bootstrap@5.2.2/dist/css/bootstrap.min.css&quot;/&gt;\n",
              "    &lt;link rel=&quot;stylesheet&quot; href=&quot;https://netdna.bootstrapcdn.com/bootstrap/3.0.0/css/bootstrap.min.css&quot;/&gt;\n",
              "    &lt;link rel=&quot;stylesheet&quot; href=&quot;https://cdn.jsdelivr.net/npm/@fortawesome/fontawesome-free@6.2.0/css/all.min.css&quot;/&gt;\n",
              "    &lt;link rel=&quot;stylesheet&quot; href=&quot;https://cdnjs.cloudflare.com/ajax/libs/Leaflet.awesome-markers/2.0.2/leaflet.awesome-markers.css&quot;/&gt;\n",
              "    &lt;link rel=&quot;stylesheet&quot; href=&quot;https://cdn.jsdelivr.net/gh/python-visualization/folium/folium/templates/leaflet.awesome.rotate.min.css&quot;/&gt;\n",
              "    \n",
              "            &lt;meta name=&quot;viewport&quot; content=&quot;width=device-width,\n",
              "                initial-scale=1.0, maximum-scale=1.0, user-scalable=no&quot; /&gt;\n",
              "            &lt;style&gt;\n",
              "                #map_68e06d7afe1ee258437ca6a5afc172ad {\n",
              "                    position: relative;\n",
              "                    width: 600.0px;\n",
              "                    height: 600.0px;\n",
              "                    left: 0.0%;\n",
              "                    top: 0.0%;\n",
              "                }\n",
              "                .leaflet-container { font-size: 1rem; }\n",
              "            &lt;/style&gt;\n",
              "        \n",
              "&lt;/head&gt;\n",
              "&lt;body&gt;\n",
              "    \n",
              "    \n",
              "            &lt;div class=&quot;folium-map&quot; id=&quot;map_68e06d7afe1ee258437ca6a5afc172ad&quot; &gt;&lt;/div&gt;\n",
              "        \n",
              "&lt;/body&gt;\n",
              "&lt;script&gt;\n",
              "    \n",
              "    \n",
              "            var map_68e06d7afe1ee258437ca6a5afc172ad = L.map(\n",
              "                &quot;map_68e06d7afe1ee258437ca6a5afc172ad&quot;,\n",
              "                {\n",
              "                    center: [13.65457975, -16.458819706609695],\n",
              "                    crs: L.CRS.EPSG3857,\n",
              "                    zoom: 13,\n",
              "                    zoomControl: true,\n",
              "                    preferCanvas: false,\n",
              "                }\n",
              "            );\n",
              "\n",
              "            \n",
              "\n",
              "        \n",
              "    \n",
              "            var tile_layer_aa8ca8270b84aeeb4c7ab68bf3978f70 = L.tileLayer(\n",
              "                &quot;https://cartodb-basemaps-{s}.global.ssl.fastly.net/light_all/{z}/{x}/{y}.png&quot;,\n",
              "                {&quot;attribution&quot;: &quot;\\u0026copy; \\u003ca target=\\&quot;_blank\\&quot; href=\\&quot;http://www.openstreetmap.org/copyright\\&quot;\\u003eOpenStreetMap\\u003c/a\\u003e contributors \\u0026copy; \\u003ca target=\\&quot;_blank\\&quot; href=\\&quot;http://cartodb.com/attributions\\&quot;\\u003eCartoDB\\u003c/a\\u003e, CartoDB \\u003ca target=\\&quot;_blank\\&quot; href =\\&quot;http://cartodb.com/attributions\\&quot;\\u003eattributions\\u003c/a\\u003e&quot;, &quot;detectRetina&quot;: false, &quot;maxNativeZoom&quot;: 18, &quot;maxZoom&quot;: 18, &quot;minZoom&quot;: 0, &quot;noWrap&quot;: false, &quot;opacity&quot;: 1, &quot;subdomains&quot;: &quot;abc&quot;, &quot;tms&quot;: false}\n",
              "            ).addTo(map_68e06d7afe1ee258437ca6a5afc172ad);\n",
              "        \n",
              "    \n",
              "            var tile_layer_9af5605fc868cf1955e81cf3ac8722ee = L.tileLayer(\n",
              "                &quot;https://server.arcgisonline.com/ArcGIS/rest/services/World_Imagery/MapServer/tile/{z}/{y}/{x}&quot;,\n",
              "                {&quot;attribution&quot;: &quot;Esri&quot;, &quot;detectRetina&quot;: false, &quot;maxNativeZoom&quot;: 18, &quot;maxZoom&quot;: 18, &quot;minZoom&quot;: 0, &quot;noWrap&quot;: false, &quot;opacity&quot;: 1, &quot;subdomains&quot;: &quot;abc&quot;, &quot;tms&quot;: false}\n",
              "            ).addTo(map_68e06d7afe1ee258437ca6a5afc172ad);\n",
              "        \n",
              "    \n",
              "        function geo_json_3b466d50c1f8bb70f6b1fa71e0dfdb42_styler(feature) {\n",
              "            switch(feature.id) {\n",
              "                default:\n",
              "                    return {&quot;color&quot;: &quot;red&quot;, &quot;fillOpacity&quot;: 0.89};\n",
              "            }\n",
              "        }\n",
              "\n",
              "        function geo_json_3b466d50c1f8bb70f6b1fa71e0dfdb42_onEachFeature(feature, layer) {\n",
              "            layer.on({\n",
              "            });\n",
              "        };\n",
              "        var geo_json_3b466d50c1f8bb70f6b1fa71e0dfdb42 = L.geoJson(null, {\n",
              "                onEachFeature: geo_json_3b466d50c1f8bb70f6b1fa71e0dfdb42_onEachFeature,\n",
              "            \n",
              "                style: geo_json_3b466d50c1f8bb70f6b1fa71e0dfdb42_styler,\n",
              "        });\n",
              "\n",
              "        function geo_json_3b466d50c1f8bb70f6b1fa71e0dfdb42_add (data) {\n",
              "            geo_json_3b466d50c1f8bb70f6b1fa71e0dfdb42\n",
              "                .addData(data)\n",
              "                .addTo(map_68e06d7afe1ee258437ca6a5afc172ad);\n",
              "        }\n",
              "            geo_json_3b466d50c1f8bb70f6b1fa71e0dfdb42_add({&quot;bbox&quot;: [-16.4977093, 13.6118575, -16.4288145, 13.7013662], &quot;features&quot;: [{&quot;bbox&quot;: [-16.4977093, 13.6118575, -16.4288145, 13.7013662], &quot;geometry&quot;: {&quot;coordinates&quot;: [[[-16.4977093, 13.6344262], [-16.4875892, 13.6845384], [-16.4304329, 13.7013662], [-16.4288145, 13.6118575], [-16.4977093, 13.6344262]]], &quot;type&quot;: &quot;Polygon&quot;}, &quot;id&quot;: &quot;0&quot;, &quot;properties&quot;: {}, &quot;type&quot;: &quot;Feature&quot;}], &quot;type&quot;: &quot;FeatureCollection&quot;});\n",
              "\n",
              "        \n",
              "    \n",
              "        var popup_61d5c72dd86a56fe3a94ec628fff0c3e = L.popup({&quot;maxWidth&quot;: &quot;100%&quot;});\n",
              "\n",
              "        \n",
              "            \n",
              "                var html_f049f43b133f84322294342d53f7fad6 = $(`&lt;div id=&quot;html_f049f43b133f84322294342d53f7fad6&quot; style=&quot;width: 100.0%; height: 100.0%;&quot;&gt;Reserve de Fathala&lt;/div&gt;`)[0];\n",
              "                popup_61d5c72dd86a56fe3a94ec628fff0c3e.setContent(html_f049f43b133f84322294342d53f7fad6);\n",
              "            \n",
              "        \n",
              "\n",
              "        geo_json_3b466d50c1f8bb70f6b1fa71e0dfdb42.bindPopup(popup_61d5c72dd86a56fe3a94ec628fff0c3e)\n",
              "        ;\n",
              "\n",
              "        \n",
              "    \n",
              "&lt;/script&gt;\n",
              "&lt;/html&gt;\" style=\"position:absolute;width:100%;height:100%;left:0;top:0;border:none !important;\" allowfullscreen webkitallowfullscreen mozallowfullscreen></iframe></div></div>"
            ]
          },
          "metadata": {},
          "execution_count": 14
        }
      ]
    },
    {
      "cell_type": "markdown",
      "source": [
        "*4. Maintenant, nous prenons l'image et le masque et nous les exportons en utilisant le pilote Selenium Firefox.*"
      ],
      "metadata": {
        "id": "0-ojZQyID1aw"
      }
    },
    {
      "cell_type": "code",
      "source": [
        "#### export map and mask\n",
        "##### You can find both of these images in the folder of\n",
        "\n",
        "# download gecko driver for  from here - https://github.com/mozilla/geckodriver/releases\n",
        "\n",
        "options = Options()\n",
        "options.headless = True\n",
        "##options = Options()\n",
        "options.binary_location = r'/usr/lib/chromium-browser/chromedriver'#### you may need to update this path\n",
        "driver = webdriver.Chrome(options=chrome_options)\n",
        "\n",
        "\n",
        "\n",
        "###Map_export_portion\n",
        "# use selenium to save the html as png image\n",
        "driver.get(mapUrl)\n",
        "# wait for 5 seconds for the maps and other assets to be loaded in the browser\n",
        "time.sleep(5)\n",
        "driver.save_screenshot('map.png')\n",
        "\n",
        "####mask_export_portion\n",
        "driver.get(maskUrl)\n",
        "# wait for 5 seconds for the maps and other assets to be loaded in the browser\n",
        "time.sleep(5)\n",
        "driver.save_screenshot('mask.png')\n",
        "driver.quit()"
      ],
      "metadata": {
        "id": "aWGD0nPAA2P5"
      },
      "execution_count": 15,
      "outputs": []
    },
    {
      "cell_type": "markdown",
      "source": [
        "*5. Nous pouvons maintenant lire l'image du masque et le code Focus sur la couche rouge et la transformer en un masque binaire.Les dernières lignes de ce code lisent l'image satellite brute du site.*"
      ],
      "metadata": {
        "id": "IofuS6QoEsBE"
      }
    },
    {
      "cell_type": "code",
      "source": [
        "import imageio.v2 as iio\n",
        "\n",
        "img = iio.imread('mask.png')\n",
        "##portion = china[120:250, 110:230]\n",
        "img =img [0:600, 0:600]\n",
        "\n",
        "r = img[:,:,0]\n",
        "b = img[:,:,1]\n",
        "g = img[:,:,2]\n",
        "img_red=r>150\n",
        "   ## plt.imshow(img_red)\n",
        "img_blue=      b>100\n",
        "img_green=      g>100\n",
        "   ## plt.imshow(img_blue)\n",
        "img_other = (img_red.astype(np.float32) * img_blue.astype(np.float32)).astype(bool)\n",
        "img_mask = (img_red.astype(np.float32) - img_other.astype(np.float32)).astype(bool)\n",
        "\n",
        "plt.imshow(img_mask)\n",
        "#import map\n",
        "img_map= iio.imread('map.png')\n",
        "##portion = china[120:250, 110:230]\n",
        "img_map =img_map [0:600, 0:600]\n",
        "img_map=normalize(img_map)\n",
        "plt.imshow(img_mask)"
      ],
      "metadata": {
        "colab": {
          "base_uri": "https://localhost:8080/",
          "height": 452
        },
        "id": "7i_rcuNpEQMX",
        "outputId": "320f8d34-9127-4ceb-db6f-922c39b49b0a"
      },
      "execution_count": 16,
      "outputs": [
        {
          "output_type": "execute_result",
          "data": {
            "text/plain": [
              "<matplotlib.image.AxesImage at 0x7fccf5455db0>"
            ]
          },
          "metadata": {},
          "execution_count": 16
        },
        {
          "output_type": "display_data",
          "data": {
            "text/plain": [
              "<Figure size 640x480 with 1 Axes>"
            ],
            "image/png": "[encoded data removed]"
          },
          "metadata": {}
        }
      ]
    },
    {
      "cell_type": "markdown",
      "source": [
        "Enfin, nous combinons ces cinq étapes et créer une boucle pour parcourir chaque enregistrement et ajouter l'image et le masque dans deux tableaux que nous pourrons ensuite introduire dans le réseau neuronal.Par ailleurs, nous avons subdivisé le cadre de données pour obtenir 300 images de la classe forêt uniquement."
      ],
      "metadata": {
        "id": "RImaKBkXE77E"
      }
    },
    {
      "cell_type": "code",
      "source": [
        "###create a subset\n",
        "gdf_subset=gdf[gdf['fclass'] ==\"forest\"].reset_index()\n",
        "gdf_subset=gdf[:100]\n",
        "len(gdf_subset)"
      ],
      "metadata": {
        "colab": {
          "base_uri": "https://localhost:8080/"
        },
        "id": "VPH4y8XyEwP3",
        "outputId": "84ba793a-ceb3-44c8-eb65-44fd82ded7eb"
      },
      "execution_count": 17,
      "outputs": [
        {
          "output_type": "execute_result",
          "data": {
            "text/plain": [
              "100"
            ]
          },
          "metadata": {},
          "execution_count": 17
        }
      ]
    },
    {
      "cell_type": "code",
      "source": [
        "img_map_array = []\n",
        "img_mask_array = []\n",
        "st = time.time()\n",
        "\n",
        "options = Options()\n",
        "options.headless = True\n",
        "driver = webdriver.Chrome(options=chrome_options)\n",
        "\n",
        "for i in range(len(gdf_subset)):\n",
        "    print([i])\n",
        "    id = gdf_subset['osm_id'][i]\n",
        "    shapefile_forest = gdf[gdf['osm_id'] == id]\n",
        "    df = shapefile_forest\n",
        "    df.crs\n",
        "    df = df.to_crs(epsg=4326)\n",
        "\n",
        "    location = [float(df.geometry.representative_point().y.iloc[0]), float(df.geometry.representative_point().x.iloc[0])]\n",
        "    m_map = folium.Map(location, width=600, height=600, zoom_start=12, tiles='CartoDB positron')\n",
        "    tile = folium.TileLayer(tiles='https://server.arcgisonline.com/ArcGIS/rest/services/World_Imagery/MapServer/tile/{z}/{y}/{x}', attr='Esri',\n",
        "                           name='Esri Satellite', overlay=False, control=False).add_to(m_map)\n",
        "\n",
        "    mapFname = 'map.html'\n",
        "    m_map.save(mapFname)\n",
        "    mapUrl = 'file://{0}\\\\{1}'.format(os.getcwd(), mapFname)\n",
        "\n",
        "    m = folium.Map(location, width=600, height=600, zoom_start=12, tiles='CartoDB positron')\n",
        "    tile = folium.TileLayer(tiles='https://server.arcgisonline.com/ArcGIS/rest/services/World_Imagery/MapServer/tile/{z}/{y}/{x}', attr='Esri',\n",
        "                           name='Esri Satellite', overlay=False, control=False).add_to(m)\n",
        "\n",
        "    style = {\"color\": \"red\", \"fillOpacity\": 0.89}\n",
        "\n",
        "    for _, r in df.iterrows():\n",
        "        sim_geo = gpd.GeoSeries(r['geometry']).simplify(tolerance=0.5)\n",
        "        geo_j = sim_geo.to_json()\n",
        "        geo_j = folium.GeoJson(data=geo_j, style_function=lambda x: style)\n",
        "        folium.Popup(r['name']).add_to(geo_j)\n",
        "        geo_j.add_to(m)\n",
        "\n",
        "    maskFname = 'mask.html'\n",
        "    m.save(maskFname)\n",
        "    maskUrl = 'file://{0}\\\\{1}'.format(os.getcwd(), maskFname)\n",
        "\n",
        "    driver.get(mapUrl)\n",
        "    time.sleep(5)\n",
        "    driver.save_screenshot('map.png')\n",
        "\n",
        "    driver.get(maskUrl)\n",
        "    time.sleep(5)\n",
        "    driver.save_screenshot('mask.png')\n",
        "\n",
        "    img = iio.imread('mask.png')\n",
        "    img = img[0:600, 0:600]\n",
        "    r = img[:, :, 0]\n",
        "    b = img[:, :, 1]\n",
        "    g = img[:, :, 2]\n",
        "    img_red = r > 150\n",
        "    img_blue = b > 100\n",
        "    img_green = g > 100\n",
        "    img_other = (img_red.astype(np.float32) * img_blue.astype(np.float32)).astype(bool)\n",
        "    img_mask = (img_red.astype(np.float32) - img_other.astype(np.float32)).astype(bool)\n",
        "    plt.imshow(img_mask)\n",
        "\n",
        "    img_map = iio.imread('map.png')\n",
        "    img_map = img_map[0:600, 0:600]\n",
        "    img_map = normalize(img_map)\n",
        "    plt.imshow(img_map)\n",
        "\n",
        "    mask_final = []\n",
        "    img_mask0 = img_mask * -1 + 1\n",
        "    img_mask1 = img_mask.astype(int)\n",
        "    mask_final.append(img_mask0)\n",
        "    mask_final.append(img_mask1)\n",
        "    mask_final = np.array(mask_final)\n",
        "    mask_final = mask_final.transpose([1, 2, 0])\n",
        "\n",
        "    img_map_array.append(img_map)\n",
        "    img_mask_array.append(mask_final)\n",
        "\n",
        "     # Libérer la mémoire en supprimant les variables inutiles\n",
        "    del m_map\n",
        "    del m\n",
        "    del mask_final\n",
        "    del img\n",
        "    del r\n",
        "    del b\n",
        "    del g\n",
        "    del img_red\n",
        "    del img_blue\n",
        "    del img_green\n",
        "    del img_other\n",
        "    del img_mask\n",
        "    del img_map\n",
        "\n",
        "et = time.time()\n",
        "elapsed_time = et - st\n",
        "print('loop time:', elapsed_time, 'seconds')\n",
        "driver.quit()\n",
        "img_map_array = np.array(img_map_array)\n",
        "img_mask_array = np.array(img_mask_array)"
      ],
      "metadata": {
        "colab": {
          "base_uri": "https://localhost:8080/",
          "height": 1000
        },
        "id": "HjRGGHeLFR51",
        "outputId": "df568c3c-f07a-4bbc-a050-e494ecf0ed12"
      },
      "execution_count": 18,
      "outputs": [
        {
          "output_type": "stream",
          "name": "stdout",
          "text": [
            "[0]\n",
            "[1]\n",
            "[2]\n",
            "[3]\n",
            "[4]\n",
            "[5]\n",
            "[6]\n",
            "[7]\n",
            "[8]\n",
            "[9]\n",
            "[10]\n",
            "[11]\n",
            "[12]\n",
            "[13]\n",
            "[14]\n",
            "[15]\n",
            "[16]\n",
            "[17]\n",
            "[18]\n",
            "[19]\n",
            "[20]\n",
            "[21]\n",
            "[22]\n",
            "[23]\n",
            "[24]\n",
            "[25]\n",
            "[26]\n",
            "[27]\n",
            "[28]\n",
            "[29]\n",
            "[30]\n",
            "[31]\n",
            "[32]\n",
            "[33]\n",
            "[34]\n",
            "[35]\n",
            "[36]\n",
            "[37]\n",
            "[38]\n",
            "[39]\n",
            "[40]\n",
            "[41]\n",
            "[42]\n",
            "[43]\n",
            "[44]\n",
            "[45]\n",
            "[46]\n",
            "[47]\n",
            "[48]\n",
            "[49]\n",
            "[50]\n",
            "[51]\n",
            "[52]\n",
            "[53]\n",
            "[54]\n",
            "[55]\n",
            "[56]\n",
            "[57]\n",
            "[58]\n",
            "[59]\n",
            "[60]\n",
            "[61]\n",
            "[62]\n",
            "[63]\n",
            "[64]\n",
            "[65]\n",
            "[66]\n",
            "[67]\n",
            "[68]\n",
            "[69]\n",
            "[70]\n",
            "[71]\n",
            "[72]\n",
            "[73]\n",
            "[74]\n",
            "[75]\n",
            "[76]\n",
            "[77]\n",
            "[78]\n",
            "[79]\n",
            "[80]\n",
            "[81]\n",
            "[82]\n",
            "[83]\n",
            "[84]\n",
            "[85]\n",
            "[86]\n",
            "[87]\n",
            "[88]\n",
            "[89]\n",
            "[90]\n",
            "[91]\n",
            "[92]\n",
            "[93]\n",
            "[94]\n",
            "[95]\n",
            "[96]\n",
            "[97]\n",
            "[98]\n",
            "[99]\n",
            "loop time: 138.6053912639618 seconds\n"
          ]
        },
        {
          "output_type": "display_data",
          "data": {
            "text/plain": [
              "<Figure size 640x480 with 1 Axes>"
            ],
            "image/png": "[encoded data removed]"
          },
          "metadata": {}
        }
      ]
    },
    {
      "cell_type": "markdown",
      "source": [
        "# Prototype du modèle"
      ],
      "metadata": {
        "id": "SfsesUAyuP7C"
      }
    },
    {
      "cell_type": "code",
      "source": [
        "###from tensorflow import keras\n",
        "from tensorflow.keras.models import Model\n",
        "from tensorflow.keras.layers import Input, Conv2D, MaxPooling2D, concatenate, Conv2DTranspose\n",
        "from tensorflow.keras.optimizers import Adam\n",
        "from keras.callbacks import ModelCheckpoint\n",
        "from keras.callbacks import CSVLogger\n",
        "from keras.callbacks import TensorBoard"
      ],
      "metadata": {
        "id": "tlc9f-4xFbCs"
      },
      "execution_count": 19,
      "outputs": []
    },
    {
      "cell_type": "code",
      "source": [
        "from tensorflow.keras import regularizers\n",
        "\n",
        "def simple_unet_model(n_classes=2, im_sz=600, n_channels=4, n_filters_start=4, growth_factor=2):\n",
        "    # Création d'un modèle de réseau à l'aide de l'API fonctionnelle:\n",
        "    n_filters = n_filters_start\n",
        "    inputs = Input((im_sz, im_sz, n_channels))\n",
        "\n",
        "    # Ajoute les régularisations L1, L2, et L1_L2 dans les couches de convolution\n",
        "    reg_l1 = regularizers.l1(0.01)  # Paramètre de régularisation L1 (à ajuster selon tes besoins)\n",
        "    reg_l2 = regularizers.l2(0.01)  # Paramètre de régularisation L2 (à ajuster selon tes besoins)\n",
        "    reg_l1_l2 = regularizers.l1_l2(l1=0.01, l2=0.01)  # Paramètres de régularisation L1_L2 (à ajuster selon tes besoins)\n",
        "\n",
        "    conv1 = Conv2D(n_filters, (3, 3), activation='relu', padding='same', kernel_regularizer=reg_l1)(inputs)\n",
        "    pool1 = MaxPooling2D(pool_size=(2, 2))(conv1)\n",
        "    n_filters *= growth_factor  # increase number of filters when going down the U-Net\n",
        "    conv2 = Conv2D(n_filters, (3, 3), activation='relu', padding='same', kernel_regularizer=reg_l2)(pool1)\n",
        "    n_filters //= growth_factor  # decrease number of filters when going up the U-Net\n",
        "    upconv = Conv2DTranspose(n_filters, (2, 2), strides=(2, 2), padding='same')(conv2)\n",
        "    concat = concatenate([conv1, upconv])\n",
        "    conv3 = Conv2D(n_filters, (3, 3), activation='relu', padding='same', kernel_regularizer=reg_l1_l2)(concat)\n",
        "    output = Conv2D(n_classes, (1, 1), activation='sigmoid')(conv3)\n",
        "\n",
        "    model = Model(inputs=inputs, outputs=output)\n",
        "    # Compilation du modèle avec l'optimiseur ADAM et logloss (aka binary crossentropy) comme fonction de perte\n",
        "    model.compile(optimizer=Adam(), loss='binary_crossentropy')\n",
        "    return model\n",
        "\n",
        "model = simple_unet_model()\n",
        "model.summary()"
      ],
      "metadata": {
        "colab": {
          "base_uri": "https://localhost:8080/"
        },
        "id": "s-Yr7QyoNgUM",
        "outputId": "99c73174-7205-4845-85b5-141f86ee8be3"
      },
      "execution_count": 20,
      "outputs": [
        {
          "output_type": "stream",
          "name": "stdout",
          "text": [
            "Model: \"model\"\n",
            "__________________________________________________________________________________________________\n",
            " Layer (type)                Output Shape                 Param #   Connected to                  \n",
            "==================================================================================================\n",
            " input_1 (InputLayer)        [(None, 600, 600, 4)]        0         []                            \n",
            "                                                                                                  \n",
            " conv2d (Conv2D)             (None, 600, 600, 4)          148       ['input_1[0][0]']             \n",
            "                                                                                                  \n",
            " max_pooling2d (MaxPooling2  (None, 300, 300, 4)          0         ['conv2d[0][0]']              \n",
            " D)                                                                                               \n",
            "                                                                                                  \n",
            " conv2d_1 (Conv2D)           (None, 300, 300, 8)          296       ['max_pooling2d[0][0]']       \n",
            "                                                                                                  \n",
            " conv2d_transpose (Conv2DTr  (None, 600, 600, 4)          132       ['conv2d_1[0][0]']            \n",
            " anspose)                                                                                         \n",
            "                                                                                                  \n",
            " concatenate (Concatenate)   (None, 600, 600, 8)          0         ['conv2d[0][0]',              \n",
            "                                                                     'conv2d_transpose[0][0]']    \n",
            "                                                                                                  \n",
            " conv2d_2 (Conv2D)           (None, 600, 600, 4)          292       ['concatenate[0][0]']         \n",
            "                                                                                                  \n",
            " conv2d_3 (Conv2D)           (None, 600, 600, 2)          10        ['conv2d_2[0][0]']            \n",
            "                                                                                                  \n",
            "==================================================================================================\n",
            "Total params: 878 (3.43 KB)\n",
            "Trainable params: 878 (3.43 KB)\n",
            "Non-trainable params: 0 (0.00 Byte)\n",
            "__________________________________________________________________________________________________\n"
          ]
        }
      ]
    },
    {
      "cell_type": "code",
      "source": [
        "x_train=img_map_array[0:80]\n",
        "x_test=img_map_array[80:]\n",
        "y_train=img_mask_array[0:80]\n",
        "y_test=img_mask_array[80:]\n",
        "x_train.shape\n",
        "# Entraînement du modèle:\n",
        "st = time.time()\n",
        "N_EPOCHS =50\n",
        "BATCH_SIZE = 32\n",
        "# demander à Keras de sauvegarder les meilleurs poids (en termes de perte de validation) dans un fichier:\n",
        "model_checkpoint = ModelCheckpoint(filepath='weights_simple_unet.hdf5', monitor='val_loss', save_best_only=True)\n",
        "# demander à Keras d'enregistrer chaque perte d'époch:\n",
        "csv_logger = CSVLogger('log.csv', append=True, separator=';')\n",
        "# demander à Keras d'enregistrer les informations au format TensorBoard:\n",
        "tensorboard = TensorBoard(log_dir='tensorboard_simple_unet/', write_graph=True, write_images=True)\n",
        "# Entrainement:\n",
        "model.fit(x_train, y_train, batch_size=BATCH_SIZE, epochs=N_EPOCHS,\n",
        "          verbose=2, shuffle=True,\n",
        "          callbacks=[model_checkpoint, csv_logger, tensorboard],\n",
        "          validation_data=(x_test, y_test))\n",
        "\n",
        "et = time.time()\n",
        "elapsed_time = et - st\n",
        "print('loop time:', elapsed_time, 'seconds')"
      ],
      "metadata": {
        "colab": {
          "base_uri": "https://localhost:8080/"
        },
        "id": "8KgiA_wQNnM1",
        "outputId": "93e451e6-75f2-4127-9d09-fa17566722c5"
      },
      "execution_count": 21,
      "outputs": [
        {
          "output_type": "stream",
          "name": "stdout",
          "text": [
            "Epoch 1/50\n",
            "3/3 - 46s - loss: 1.1842 - val_loss: 1.1414 - 46s/epoch - 15s/step\n",
            "Epoch 2/50\n"
          ]
        },
        {
          "output_type": "stream",
          "name": "stderr",
          "text": [
            "/usr/local/lib/python3.10/dist-packages/keras/src/engine/training.py:3000: UserWarning: You are saving your model as an HDF5 file via `model.save()`. This file format is considered legacy. We recommend using instead the native Keras format, e.g. `model.save('my_model.keras')`.\n",
            "  saving_api.save_model(\n"
          ]
        },
        {
          "output_type": "stream",
          "name": "stdout",
          "text": [
            "3/3 - 40s - loss: 1.1266 - val_loss: 1.0864 - 40s/epoch - 13s/step\n",
            "Epoch 3/50\n",
            "3/3 - 40s - loss: 1.0716 - val_loss: 1.0317 - 40s/epoch - 13s/step\n",
            "Epoch 4/50\n",
            "3/3 - 41s - loss: 1.0167 - val_loss: 0.9799 - 41s/epoch - 14s/step\n",
            "Epoch 5/50\n",
            "3/3 - 41s - loss: 0.9653 - val_loss: 0.9319 - 41s/epoch - 14s/step\n",
            "Epoch 6/50\n",
            "3/3 - 41s - loss: 0.9176 - val_loss: 0.8869 - 41s/epoch - 14s/step\n",
            "Epoch 7/50\n",
            "3/3 - 38s - loss: 0.8727 - val_loss: 0.8446 - 38s/epoch - 13s/step\n",
            "Epoch 8/50\n",
            "3/3 - 40s - loss: 0.8303 - val_loss: 0.8047 - 40s/epoch - 13s/step\n",
            "Epoch 9/50\n",
            "3/3 - 38s - loss: 0.7904 - val_loss: 0.7671 - 38s/epoch - 13s/step\n",
            "Epoch 10/50\n",
            "3/3 - 45s - loss: 0.7525 - val_loss: 0.7319 - 45s/epoch - 15s/step\n",
            "Epoch 11/50\n",
            "3/3 - 42s - loss: 0.7171 - val_loss: 0.6990 - 42s/epoch - 14s/step\n",
            "Epoch 12/50\n",
            "3/3 - 41s - loss: 0.6839 - val_loss: 0.6679 - 41s/epoch - 14s/step\n",
            "Epoch 13/50\n",
            "3/3 - 40s - loss: 0.6524 - val_loss: 0.6390 - 40s/epoch - 13s/step\n",
            "Epoch 14/50\n",
            "3/3 - 49s - loss: 0.6232 - val_loss: 0.6130 - 49s/epoch - 16s/step\n",
            "Epoch 15/50\n",
            "3/3 - 39s - loss: 0.5970 - val_loss: 0.5901 - 39s/epoch - 13s/step\n",
            "Epoch 16/50\n",
            "3/3 - 40s - loss: 0.5739 - val_loss: 0.5702 - 40s/epoch - 13s/step\n",
            "Epoch 17/50\n",
            "3/3 - 41s - loss: 0.5538 - val_loss: 0.5528 - 41s/epoch - 14s/step\n",
            "Epoch 18/50\n",
            "3/3 - 41s - loss: 0.5358 - val_loss: 0.5374 - 41s/epoch - 14s/step\n",
            "Epoch 19/50\n",
            "3/3 - 44s - loss: 0.5203 - val_loss: 0.5240 - 44s/epoch - 15s/step\n",
            "Epoch 20/50\n",
            "3/3 - 43s - loss: 0.5064 - val_loss: 0.5121 - 43s/epoch - 14s/step\n",
            "Epoch 21/50\n",
            "3/3 - 41s - loss: 0.4941 - val_loss: 0.5013 - 41s/epoch - 14s/step\n",
            "Epoch 22/50\n",
            "3/3 - 39s - loss: 0.4829 - val_loss: 0.4912 - 39s/epoch - 13s/step\n",
            "Epoch 23/50\n",
            "3/3 - 45s - loss: 0.4724 - val_loss: 0.4815 - 45s/epoch - 15s/step\n",
            "Epoch 24/50\n",
            "3/3 - 38s - loss: 0.4623 - val_loss: 0.4722 - 38s/epoch - 13s/step\n",
            "Epoch 25/50\n",
            "3/3 - 41s - loss: 0.4529 - val_loss: 0.4633 - 41s/epoch - 14s/step\n",
            "Epoch 26/50\n",
            "3/3 - 38s - loss: 0.4438 - val_loss: 0.4547 - 38s/epoch - 13s/step\n",
            "Epoch 27/50\n",
            "3/3 - 40s - loss: 0.4351 - val_loss: 0.4462 - 40s/epoch - 13s/step\n",
            "Epoch 28/50\n",
            "3/3 - 43s - loss: 0.4265 - val_loss: 0.4377 - 43s/epoch - 14s/step\n",
            "Epoch 29/50\n",
            "3/3 - 49s - loss: 0.4180 - val_loss: 0.4296 - 49s/epoch - 16s/step\n",
            "Epoch 30/50\n",
            "3/3 - 40s - loss: 0.4099 - val_loss: 0.4216 - 40s/epoch - 13s/step\n",
            "Epoch 31/50\n",
            "3/3 - 41s - loss: 0.4020 - val_loss: 0.4138 - 41s/epoch - 14s/step\n",
            "Epoch 32/50\n",
            "3/3 - 45s - loss: 0.3942 - val_loss: 0.4059 - 45s/epoch - 15s/step\n",
            "Epoch 33/50\n",
            "3/3 - 41s - loss: 0.3864 - val_loss: 0.3982 - 41s/epoch - 14s/step\n",
            "Epoch 34/50\n",
            "3/3 - 39s - loss: 0.3789 - val_loss: 0.3909 - 39s/epoch - 13s/step\n",
            "Epoch 35/50\n",
            "3/3 - 41s - loss: 0.3716 - val_loss: 0.3836 - 41s/epoch - 14s/step\n",
            "Epoch 36/50\n",
            "3/3 - 41s - loss: 0.3643 - val_loss: 0.3763 - 41s/epoch - 14s/step\n",
            "Epoch 37/50\n",
            "3/3 - 41s - loss: 0.3572 - val_loss: 0.3691 - 41s/epoch - 14s/step\n",
            "Epoch 38/50\n",
            "3/3 - 38s - loss: 0.3500 - val_loss: 0.3621 - 38s/epoch - 13s/step\n",
            "Epoch 39/50\n",
            "3/3 - 40s - loss: 0.3431 - val_loss: 0.3552 - 40s/epoch - 13s/step\n",
            "Epoch 40/50\n",
            "3/3 - 42s - loss: 0.3363 - val_loss: 0.3485 - 42s/epoch - 14s/step\n",
            "Epoch 41/50\n",
            "3/3 - 41s - loss: 0.3296 - val_loss: 0.3418 - 41s/epoch - 14s/step\n",
            "Epoch 42/50\n",
            "3/3 - 38s - loss: 0.3230 - val_loss: 0.3353 - 38s/epoch - 13s/step\n",
            "Epoch 43/50\n",
            "3/3 - 41s - loss: 0.3166 - val_loss: 0.3289 - 41s/epoch - 14s/step\n",
            "Epoch 44/50\n",
            "3/3 - 44s - loss: 0.3103 - val_loss: 0.3227 - 44s/epoch - 15s/step\n",
            "Epoch 45/50\n",
            "3/3 - 44s - loss: 0.3040 - val_loss: 0.3165 - 44s/epoch - 15s/step\n",
            "Epoch 46/50\n",
            "3/3 - 41s - loss: 0.2978 - val_loss: 0.3105 - 41s/epoch - 14s/step\n",
            "Epoch 47/50\n",
            "3/3 - 38s - loss: 0.2920 - val_loss: 0.3047 - 38s/epoch - 13s/step\n",
            "Epoch 48/50\n",
            "3/3 - 44s - loss: 0.2862 - val_loss: 0.2991 - 44s/epoch - 15s/step\n",
            "Epoch 49/50\n",
            "3/3 - 63s - loss: 0.2806 - val_loss: 0.2935 - 63s/epoch - 21s/step\n",
            "Epoch 50/50\n",
            "3/3 - 38s - loss: 0.2750 - val_loss: 0.2881 - 38s/epoch - 13s/step\n",
            "loop time: 2127.985356092453 seconds\n"
          ]
        }
      ]
    },
    {
      "cell_type": "code",
      "source": [
        "# Évaluation du modèle sur les données de test\n",
        "test_loss = model.evaluate(x_test, y_test, verbose=0)\n",
        "print(\"Test Loss:\", test_loss)"
      ],
      "metadata": {
        "id": "pBM37JfUN4nO",
        "colab": {
          "base_uri": "https://localhost:8080/"
        },
        "outputId": "6acdefa2-e38f-405c-d5bc-893d7222576b"
      },
      "execution_count": 22,
      "outputs": [
        {
          "output_type": "stream",
          "name": "stdout",
          "text": [
            "Test Loss: 0.2880617380142212\n"
          ]
        }
      ]
    },
    {
      "cell_type": "code",
      "source": [],
      "metadata": {
        "id": "rM3fw1XVbvuE"
      },
      "execution_count": 22,
      "outputs": []
    }
  ]
}